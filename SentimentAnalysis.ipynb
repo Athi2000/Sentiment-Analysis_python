{
 "cells": [
  {
   "cell_type": "code",
   "execution_count": 2,
   "id": "60d52d98-5043-46f3-ba99-ec084398d0ef",
   "metadata": {},
   "outputs": [
    {
     "name": "stdout",
     "output_type": "stream",
     "text": [
      "Requirement already satisfied: transformers in c:\\users\\athit\\appdata\\local\\programs\\python\\python311\\lib\\site-packages (4.36.1)\n",
      "Requirement already satisfied: filelock in c:\\users\\athit\\appdata\\local\\programs\\python\\python311\\lib\\site-packages (from transformers) (3.13.1)\n",
      "Requirement already satisfied: huggingface-hub<1.0,>=0.19.3 in c:\\users\\athit\\appdata\\local\\programs\\python\\python311\\lib\\site-packages (from transformers) (0.19.4)\n",
      "Requirement already satisfied: numpy>=1.17 in c:\\users\\athit\\appdata\\local\\programs\\python\\python311\\lib\\site-packages (from transformers) (1.26.2)\n",
      "Requirement already satisfied: packaging>=20.0 in c:\\users\\athit\\appdata\\local\\programs\\python\\python311\\lib\\site-packages (from transformers) (23.2)\n",
      "Requirement already satisfied: pyyaml>=5.1 in c:\\users\\athit\\appdata\\local\\programs\\python\\python311\\lib\\site-packages (from transformers) (6.0)\n",
      "Requirement already satisfied: regex!=2019.12.17 in c:\\users\\athit\\appdata\\local\\programs\\python\\python311\\lib\\site-packages (from transformers) (2023.10.3)\n",
      "Requirement already satisfied: requests in c:\\users\\athit\\appdata\\local\\programs\\python\\python311\\lib\\site-packages (from transformers) (2.31.0)\n",
      "Requirement already satisfied: tokenizers<0.19,>=0.14 in c:\\users\\athit\\appdata\\local\\programs\\python\\python311\\lib\\site-packages (from transformers) (0.15.0)\n",
      "Requirement already satisfied: safetensors>=0.3.1 in c:\\users\\athit\\appdata\\local\\programs\\python\\python311\\lib\\site-packages (from transformers) (0.4.1)\n",
      "Requirement already satisfied: tqdm>=4.27 in c:\\users\\athit\\appdata\\local\\programs\\python\\python311\\lib\\site-packages (from transformers) (4.66.1)\n",
      "Requirement already satisfied: fsspec>=2023.5.0 in c:\\users\\athit\\appdata\\local\\programs\\python\\python311\\lib\\site-packages (from huggingface-hub<1.0,>=0.19.3->transformers) (2023.12.2)\n",
      "Requirement already satisfied: typing-extensions>=3.7.4.3 in c:\\users\\athit\\appdata\\local\\programs\\python\\python311\\lib\\site-packages (from huggingface-hub<1.0,>=0.19.3->transformers) (4.8.0)\n",
      "Requirement already satisfied: colorama in c:\\users\\athit\\appdata\\local\\programs\\python\\python311\\lib\\site-packages (from tqdm>=4.27->transformers) (0.4.6)\n",
      "Requirement already satisfied: charset-normalizer<4,>=2 in c:\\users\\athit\\appdata\\local\\programs\\python\\python311\\lib\\site-packages (from requests->transformers) (3.0.1)\n",
      "Requirement already satisfied: idna<4,>=2.5 in c:\\users\\athit\\appdata\\local\\programs\\python\\python311\\lib\\site-packages (from requests->transformers) (3.4)\n",
      "Requirement already satisfied: urllib3<3,>=1.21.1 in c:\\users\\athit\\appdata\\local\\programs\\python\\python311\\lib\\site-packages (from requests->transformers) (1.26.14)\n",
      "Requirement already satisfied: certifi>=2017.4.17 in c:\\users\\athit\\appdata\\local\\programs\\python\\python311\\lib\\site-packages (from requests->transformers) (2022.12.7)\n",
      "Requirement already satisfied: Flask in c:\\users\\athit\\appdata\\local\\programs\\python\\python311\\lib\\site-packages (3.0.1)\n",
      "Requirement already satisfied: Werkzeug>=3.0.0 in c:\\users\\athit\\appdata\\local\\programs\\python\\python311\\lib\\site-packages (from Flask) (3.0.1)\n",
      "Requirement already satisfied: Jinja2>=3.1.2 in c:\\users\\athit\\appdata\\local\\programs\\python\\python311\\lib\\site-packages (from Flask) (3.1.2)\n",
      "Requirement already satisfied: itsdangerous>=2.1.2 in c:\\users\\athit\\appdata\\local\\programs\\python\\python311\\lib\\site-packages (from Flask) (2.1.2)\n",
      "Requirement already satisfied: click>=8.1.3 in c:\\users\\athit\\appdata\\local\\programs\\python\\python311\\lib\\site-packages (from Flask) (8.1.7)\n",
      "Requirement already satisfied: blinker>=1.6.2 in c:\\users\\athit\\appdata\\local\\programs\\python\\python311\\lib\\site-packages (from Flask) (1.7.0)\n",
      "Requirement already satisfied: colorama in c:\\users\\athit\\appdata\\local\\programs\\python\\python311\\lib\\site-packages (from click>=8.1.3->Flask) (0.4.6)\n",
      "Requirement already satisfied: MarkupSafe>=2.0 in c:\\users\\athit\\appdata\\local\\programs\\python\\python311\\lib\\site-packages (from Jinja2>=3.1.2->Flask) (2.1.3)\n"
     ]
    }
   ],
   "source": [
    "!pip install transformers\n",
    "!pip install Flask  \n"
   ]
  },
  {
   "cell_type": "code",
   "execution_count": 11,
   "id": "043a7426-1a11-4b3f-9323-3e89f19b20e2",
   "metadata": {},
   "outputs": [
    {
     "data": {
      "application/vnd.jupyter.widget-view+json": {
       "model_id": "8e4608383fe64c7e93e65f6d26bffdcf",
       "version_major": 2,
       "version_minor": 0
      },
      "text/plain": [
       "Downloading readme:   0%|          | 0.00/31.9k [00:00<?, ?B/s]"
      ]
     },
     "metadata": {},
     "output_type": "display_data"
    },
    {
     "data": {
      "application/vnd.jupyter.widget-view+json": {
       "model_id": "9f46d8c5918e4548a56ec8771e4e012b",
       "version_major": 2,
       "version_minor": 0
      },
      "text/plain": [
       "Downloading data:   0%|          | 0.00/649k [00:00<?, ?B/s]"
      ]
     },
     "metadata": {},
     "output_type": "display_data"
    },
    {
     "data": {
      "application/vnd.jupyter.widget-view+json": {
       "model_id": "25ac33325c42417fa54f09922f877e41",
       "version_major": 2,
       "version_minor": 0
      },
      "text/plain": [
       "Downloading data:   0%|          | 0.00/75.7k [00:00<?, ?B/s]"
      ]
     },
     "metadata": {},
     "output_type": "display_data"
    },
    {
     "data": {
      "application/vnd.jupyter.widget-view+json": {
       "model_id": "71032ea38c124dcb93f73950c36815a8",
       "version_major": 2,
       "version_minor": 0
      },
      "text/plain": [
       "Downloading data:   0%|          | 0.00/308k [00:00<?, ?B/s]"
      ]
     },
     "metadata": {},
     "output_type": "display_data"
    },
    {
     "data": {
      "application/vnd.jupyter.widget-view+json": {
       "model_id": "f035934fb8ba4b188c9c976bb89cd340",
       "version_major": 2,
       "version_minor": 0
      },
      "text/plain": [
       "Generating train split:   0%|          | 0/3668 [00:00<?, ? examples/s]"
      ]
     },
     "metadata": {},
     "output_type": "display_data"
    },
    {
     "data": {
      "application/vnd.jupyter.widget-view+json": {
       "model_id": "2c06618a51cc42f7a8494309208751ad",
       "version_major": 2,
       "version_minor": 0
      },
      "text/plain": [
       "Generating validation split:   0%|          | 0/408 [00:00<?, ? examples/s]"
      ]
     },
     "metadata": {},
     "output_type": "display_data"
    },
    {
     "data": {
      "application/vnd.jupyter.widget-view+json": {
       "model_id": "ba39a51b17884bd5a3305fdb11e353df",
       "version_major": 2,
       "version_minor": 0
      },
      "text/plain": [
       "Generating test split:   0%|          | 0/1725 [00:00<?, ? examples/s]"
      ]
     },
     "metadata": {},
     "output_type": "display_data"
    }
   ],
   "source": [
    "from datasets import load_dataset\n",
    "raw_datasets = load_dataset(\"glue\", \"mrpc\")"
   ]
  },
  {
   "cell_type": "code",
   "execution_count": 4,
   "id": "11ce93d1-8520-413f-9cd9-2c4dfe30df64",
   "metadata": {},
   "outputs": [
    {
     "name": "stdout",
     "output_type": "stream",
     "text": [
      "Collecting datasets\n",
      "  Downloading datasets-2.16.1-py3-none-any.whl.metadata (20 kB)\n",
      "Requirement already satisfied: filelock in c:\\users\\athit\\appdata\\local\\programs\\python\\python311\\lib\\site-packages (from datasets) (3.13.1)\n",
      "Requirement already satisfied: numpy>=1.17 in c:\\users\\athit\\appdata\\local\\programs\\python\\python311\\lib\\site-packages (from datasets) (1.26.2)\n",
      "Collecting pyarrow>=8.0.0 (from datasets)\n",
      "  Downloading pyarrow-14.0.2-cp311-cp311-win_amd64.whl.metadata (3.1 kB)\n",
      "Collecting pyarrow-hotfix (from datasets)\n",
      "  Downloading pyarrow_hotfix-0.6-py3-none-any.whl.metadata (3.6 kB)\n",
      "Collecting dill<0.3.8,>=0.3.0 (from datasets)\n",
      "  Downloading dill-0.3.7-py3-none-any.whl.metadata (9.9 kB)\n",
      "Requirement already satisfied: pandas in c:\\users\\athit\\appdata\\local\\programs\\python\\python311\\lib\\site-packages (from datasets) (2.1.3)\n",
      "Requirement already satisfied: requests>=2.19.0 in c:\\users\\athit\\appdata\\local\\programs\\python\\python311\\lib\\site-packages (from datasets) (2.31.0)\n",
      "Requirement already satisfied: tqdm>=4.62.1 in c:\\users\\athit\\appdata\\local\\programs\\python\\python311\\lib\\site-packages (from datasets) (4.66.1)\n",
      "Collecting xxhash (from datasets)\n",
      "  Downloading xxhash-3.4.1-cp311-cp311-win_amd64.whl.metadata (12 kB)\n",
      "Collecting multiprocess (from datasets)\n",
      "  Downloading multiprocess-0.70.15-py311-none-any.whl.metadata (7.2 kB)\n",
      "Collecting fsspec<=2023.10.0,>=2023.1.0 (from fsspec[http]<=2023.10.0,>=2023.1.0->datasets)\n",
      "  Downloading fsspec-2023.10.0-py3-none-any.whl.metadata (6.8 kB)\n",
      "Collecting aiohttp (from datasets)\n",
      "  Downloading aiohttp-3.9.1-cp311-cp311-win_amd64.whl.metadata (7.6 kB)\n",
      "Requirement already satisfied: huggingface-hub>=0.19.4 in c:\\users\\athit\\appdata\\local\\programs\\python\\python311\\lib\\site-packages (from datasets) (0.19.4)\n",
      "Requirement already satisfied: packaging in c:\\users\\athit\\appdata\\local\\programs\\python\\python311\\lib\\site-packages (from datasets) (23.2)\n",
      "Requirement already satisfied: pyyaml>=5.1 in c:\\users\\athit\\appdata\\local\\programs\\python\\python311\\lib\\site-packages (from datasets) (6.0)\n",
      "Requirement already satisfied: attrs>=17.3.0 in c:\\users\\athit\\appdata\\local\\programs\\python\\python311\\lib\\site-packages (from aiohttp->datasets) (23.1.0)\n",
      "Collecting multidict<7.0,>=4.5 (from aiohttp->datasets)\n",
      "  Downloading multidict-6.0.4-cp311-cp311-win_amd64.whl (28 kB)\n",
      "Collecting yarl<2.0,>=1.0 (from aiohttp->datasets)\n",
      "  Downloading yarl-1.9.4-cp311-cp311-win_amd64.whl.metadata (32 kB)\n",
      "Collecting frozenlist>=1.1.1 (from aiohttp->datasets)\n",
      "  Downloading frozenlist-1.4.1-cp311-cp311-win_amd64.whl.metadata (12 kB)\n",
      "Collecting aiosignal>=1.1.2 (from aiohttp->datasets)\n",
      "  Downloading aiosignal-1.3.1-py3-none-any.whl (7.6 kB)\n",
      "Requirement already satisfied: typing-extensions>=3.7.4.3 in c:\\users\\athit\\appdata\\local\\programs\\python\\python311\\lib\\site-packages (from huggingface-hub>=0.19.4->datasets) (4.8.0)\n",
      "Requirement already satisfied: charset-normalizer<4,>=2 in c:\\users\\athit\\appdata\\local\\programs\\python\\python311\\lib\\site-packages (from requests>=2.19.0->datasets) (3.0.1)\n",
      "Requirement already satisfied: idna<4,>=2.5 in c:\\users\\athit\\appdata\\local\\programs\\python\\python311\\lib\\site-packages (from requests>=2.19.0->datasets) (3.4)\n",
      "Requirement already satisfied: urllib3<3,>=1.21.1 in c:\\users\\athit\\appdata\\local\\programs\\python\\python311\\lib\\site-packages (from requests>=2.19.0->datasets) (1.26.14)\n",
      "Requirement already satisfied: certifi>=2017.4.17 in c:\\users\\athit\\appdata\\local\\programs\\python\\python311\\lib\\site-packages (from requests>=2.19.0->datasets) (2022.12.7)\n",
      "Requirement already satisfied: colorama in c:\\users\\athit\\appdata\\local\\programs\\python\\python311\\lib\\site-packages (from tqdm>=4.62.1->datasets) (0.4.6)\n",
      "Requirement already satisfied: python-dateutil>=2.8.2 in c:\\users\\athit\\appdata\\local\\programs\\python\\python311\\lib\\site-packages (from pandas->datasets) (2.8.2)\n",
      "Requirement already satisfied: pytz>=2020.1 in c:\\users\\athit\\appdata\\local\\programs\\python\\python311\\lib\\site-packages (from pandas->datasets) (2023.3.post1)\n",
      "Requirement already satisfied: tzdata>=2022.1 in c:\\users\\athit\\appdata\\local\\programs\\python\\python311\\lib\\site-packages (from pandas->datasets) (2023.3)\n",
      "Requirement already satisfied: six>=1.5 in c:\\users\\athit\\appdata\\local\\programs\\python\\python311\\lib\\site-packages (from python-dateutil>=2.8.2->pandas->datasets) (1.16.0)\n",
      "Downloading datasets-2.16.1-py3-none-any.whl (507 kB)\n",
      "   ---------------------------------------- 0.0/507.1 kB ? eta -:--:--\n",
      "   -- ------------------------------------- 30.7/507.1 kB 1.4 MB/s eta 0:00:01\n",
      "   --- ----------------------------------- 41.0/507.1 kB 653.6 kB/s eta 0:00:01\n",
      "   --- ----------------------------------- 41.0/507.1 kB 653.6 kB/s eta 0:00:01\n",
      "   ---- ---------------------------------- 61.4/507.1 kB 328.2 kB/s eta 0:00:02\n",
      "   ----- --------------------------------- 71.7/507.1 kB 328.6 kB/s eta 0:00:02\n",
      "   -------- ----------------------------- 112.6/507.1 kB 437.6 kB/s eta 0:00:01\n",
      "   -------- ----------------------------- 112.6/507.1 kB 437.6 kB/s eta 0:00:01\n",
      "   --------- ---------------------------- 122.9/507.1 kB 361.0 kB/s eta 0:00:02\n",
      "   --------- ---------------------------- 122.9/507.1 kB 361.0 kB/s eta 0:00:02\n",
      "   ------------- ------------------------ 174.1/507.1 kB 403.5 kB/s eta 0:00:01\n",
      "   ----------------- -------------------- 235.5/507.1 kB 497.3 kB/s eta 0:00:01\n",
      "   ----------------- -------------------- 235.5/507.1 kB 497.3 kB/s eta 0:00:01\n",
      "   ------------------- ------------------ 256.0/507.1 kB 462.8 kB/s eta 0:00:01\n",
      "   ------------------------- ------------ 337.9/507.1 kB 552.6 kB/s eta 0:00:01\n",
      "   ------------------------------------ - 481.3/507.1 kB 736.0 kB/s eta 0:00:01\n",
      "   -------------------------------------- 507.1/507.1 kB 757.5 kB/s eta 0:00:00\n",
      "Downloading dill-0.3.7-py3-none-any.whl (115 kB)\n",
      "   ---------------------------------------- 0.0/115.3 kB ? eta -:--:--\n",
      "   ---------------------------------------  112.6/115.3 kB 3.3 MB/s eta 0:00:01\n",
      "   ---------------------------------------- 115.3/115.3 kB 2.2 MB/s eta 0:00:00\n",
      "Downloading fsspec-2023.10.0-py3-none-any.whl (166 kB)\n",
      "   ---------------------------------------- 0.0/166.4 kB ? eta -:--:--\n",
      "   ---------------------------------------  163.8/166.4 kB 5.0 MB/s eta 0:00:01\n",
      "   ---------------------------------------- 166.4/166.4 kB 3.3 MB/s eta 0:00:00\n",
      "Downloading aiohttp-3.9.1-cp311-cp311-win_amd64.whl (364 kB)\n",
      "   ---------------------------------------- 0.0/364.8 kB ? eta -:--:--\n",
      "   ------------------------------ --------- 276.5/364.8 kB 5.7 MB/s eta 0:00:01\n",
      "   ---------------------------------------- 364.8/364.8 kB 4.5 MB/s eta 0:00:00\n",
      "Downloading pyarrow-14.0.2-cp311-cp311-win_amd64.whl (24.6 MB)\n",
      "   ---------------------------------------- 0.0/24.6 MB ? eta -:--:--\n",
      "   ---------------------------------------- 0.2/24.6 MB 4.9 MB/s eta 0:00:05\n",
      "    --------------------------------------- 0.3/24.6 MB 3.5 MB/s eta 0:00:07\n",
      "    --------------------------------------- 0.6/24.6 MB 4.8 MB/s eta 0:00:05\n",
      "   - -------------------------------------- 0.8/24.6 MB 4.0 MB/s eta 0:00:06\n",
      "   - -------------------------------------- 0.9/24.6 MB 4.2 MB/s eta 0:00:06\n",
      "   - -------------------------------------- 1.1/24.6 MB 4.1 MB/s eta 0:00:06\n",
      "   - -------------------------------------- 1.2/24.6 MB 3.9 MB/s eta 0:00:06\n",
      "   -- ------------------------------------- 1.4/24.6 MB 4.0 MB/s eta 0:00:06\n",
      "   -- ------------------------------------- 1.5/24.6 MB 3.8 MB/s eta 0:00:07\n",
      "   -- ------------------------------------- 1.5/24.6 MB 3.5 MB/s eta 0:00:07\n",
      "   -- ------------------------------------- 1.5/24.6 MB 3.5 MB/s eta 0:00:07\n",
      "   -- ------------------------------------- 1.6/24.6 MB 3.2 MB/s eta 0:00:08\n",
      "   -- ------------------------------------- 1.8/24.6 MB 3.2 MB/s eta 0:00:08\n",
      "   --- ------------------------------------ 1.9/24.6 MB 3.2 MB/s eta 0:00:08\n",
      "   --- ------------------------------------ 1.9/24.6 MB 3.2 MB/s eta 0:00:08\n",
      "   --- ------------------------------------ 1.9/24.6 MB 3.2 MB/s eta 0:00:08\n",
      "   --- ------------------------------------ 1.9/24.6 MB 3.2 MB/s eta 0:00:08\n",
      "   --- ------------------------------------ 1.9/24.6 MB 3.2 MB/s eta 0:00:08\n",
      "   --- ------------------------------------ 1.9/24.6 MB 3.2 MB/s eta 0:00:08\n",
      "   --- ------------------------------------ 1.9/24.6 MB 3.2 MB/s eta 0:00:08\n",
      "   --- ------------------------------------ 1.9/24.6 MB 3.2 MB/s eta 0:00:08\n",
      "   --- ------------------------------------ 1.9/24.6 MB 3.2 MB/s eta 0:00:08\n",
      "   --- ------------------------------------ 1.9/24.6 MB 3.2 MB/s eta 0:00:08\n",
      "   --- ------------------------------------ 1.9/24.6 MB 3.2 MB/s eta 0:00:08\n",
      "   --- ------------------------------------ 1.9/24.6 MB 3.2 MB/s eta 0:00:08\n",
      "   --- ------------------------------------ 1.9/24.6 MB 3.2 MB/s eta 0:00:08\n",
      "   --- ------------------------------------ 1.9/24.6 MB 3.2 MB/s eta 0:00:08\n",
      "   --- ------------------------------------ 1.9/24.6 MB 3.2 MB/s eta 0:00:08\n",
      "   --- ------------------------------------ 1.9/24.6 MB 3.2 MB/s eta 0:00:08\n",
      "   --- ------------------------------------ 1.9/24.6 MB 3.2 MB/s eta 0:00:08\n",
      "   --- ------------------------------------ 1.9/24.6 MB 3.2 MB/s eta 0:00:08\n",
      "   --- ------------------------------------ 1.9/24.6 MB 3.2 MB/s eta 0:00:08\n",
      "   --- ------------------------------------ 1.9/24.6 MB 3.2 MB/s eta 0:00:08\n",
      "   --- ------------------------------------ 1.9/24.6 MB 3.2 MB/s eta 0:00:08\n",
      "   --- ------------------------------------ 1.9/24.6 MB 3.2 MB/s eta 0:00:08\n",
      "   --- ------------------------------------ 2.0/24.6 MB 1.3 MB/s eta 0:00:18\n",
      "   ---- ----------------------------------- 2.5/24.6 MB 1.6 MB/s eta 0:00:14\n",
      "   ------- -------------------------------- 4.7/24.6 MB 2.9 MB/s eta 0:00:07\n",
      "   ------- -------------------------------- 4.9/24.6 MB 2.9 MB/s eta 0:00:07\n",
      "   -------- ------------------------------- 4.9/24.6 MB 2.9 MB/s eta 0:00:07\n",
      "   -------- ------------------------------- 4.9/24.6 MB 2.9 MB/s eta 0:00:07\n",
      "   -------- ------------------------------- 5.0/24.6 MB 2.8 MB/s eta 0:00:08\n",
      "   -------- ------------------------------- 5.3/24.6 MB 2.9 MB/s eta 0:00:07\n",
      "   -------- ------------------------------- 5.5/24.6 MB 2.9 MB/s eta 0:00:07\n",
      "   --------- ------------------------------ 5.6/24.6 MB 2.9 MB/s eta 0:00:07\n",
      "   --------- ------------------------------ 5.8/24.6 MB 3.0 MB/s eta 0:00:07\n",
      "   --------- ------------------------------ 5.9/24.6 MB 2.9 MB/s eta 0:00:07\n",
      "   --------- ------------------------------ 5.9/24.6 MB 2.9 MB/s eta 0:00:07\n",
      "   --------- ------------------------------ 6.0/24.6 MB 2.9 MB/s eta 0:00:07\n",
      "   --------- ------------------------------ 6.0/24.6 MB 2.9 MB/s eta 0:00:07\n",
      "   --------- ------------------------------ 6.0/24.6 MB 2.9 MB/s eta 0:00:07\n",
      "   --------- ------------------------------ 6.0/24.6 MB 2.7 MB/s eta 0:00:07\n",
      "   --------- ------------------------------ 6.0/24.6 MB 2.7 MB/s eta 0:00:07\n",
      "   --------- ------------------------------ 6.1/24.6 MB 2.6 MB/s eta 0:00:08\n",
      "   ---------- ----------------------------- 6.2/24.6 MB 2.6 MB/s eta 0:00:08\n",
      "   ---------- ----------------------------- 6.2/24.6 MB 2.6 MB/s eta 0:00:08\n",
      "   ---------- ----------------------------- 6.3/24.6 MB 2.6 MB/s eta 0:00:08\n",
      "   ---------- ----------------------------- 6.5/24.6 MB 2.6 MB/s eta 0:00:07\n",
      "   ---------- ----------------------------- 6.6/24.6 MB 2.6 MB/s eta 0:00:07\n",
      "   ---------- ----------------------------- 6.7/24.6 MB 2.6 MB/s eta 0:00:07\n",
      "   ---------- ----------------------------- 6.7/24.6 MB 2.5 MB/s eta 0:00:07\n",
      "   ----------- ---------------------------- 6.9/24.6 MB 2.6 MB/s eta 0:00:07\n",
      "   ----------- ---------------------------- 7.0/24.6 MB 2.6 MB/s eta 0:00:07\n",
      "   ----------- ---------------------------- 7.1/24.6 MB 2.6 MB/s eta 0:00:07\n",
      "   ----------- ---------------------------- 7.2/24.6 MB 2.6 MB/s eta 0:00:07\n",
      "   ----------- ---------------------------- 7.4/24.6 MB 2.6 MB/s eta 0:00:07\n",
      "   ------------ --------------------------- 7.5/24.6 MB 2.6 MB/s eta 0:00:07\n",
      "   ------------ --------------------------- 7.6/24.6 MB 2.6 MB/s eta 0:00:07\n",
      "   ------------ --------------------------- 7.6/24.6 MB 2.6 MB/s eta 0:00:07\n",
      "   ------------ --------------------------- 7.6/24.6 MB 2.6 MB/s eta 0:00:07\n",
      "   ------------ --------------------------- 7.7/24.6 MB 2.5 MB/s eta 0:00:07\n",
      "   ------------ --------------------------- 7.9/24.6 MB 2.5 MB/s eta 0:00:07\n",
      "   ------------- -------------------------- 8.0/24.6 MB 2.5 MB/s eta 0:00:07\n",
      "   ------------- -------------------------- 8.2/24.6 MB 2.5 MB/s eta 0:00:07\n",
      "   ------------- -------------------------- 8.3/24.6 MB 2.6 MB/s eta 0:00:07\n",
      "   ------------- -------------------------- 8.5/24.6 MB 2.6 MB/s eta 0:00:07\n",
      "   ------------- -------------------------- 8.6/24.6 MB 2.6 MB/s eta 0:00:07\n",
      "   -------------- ------------------------- 8.6/24.6 MB 2.5 MB/s eta 0:00:07\n",
      "   -------------- ------------------------- 8.7/24.6 MB 2.5 MB/s eta 0:00:07\n",
      "   -------------- ------------------------- 8.7/24.6 MB 2.5 MB/s eta 0:00:07\n",
      "   -------------- ------------------------- 8.9/24.6 MB 2.5 MB/s eta 0:00:07\n",
      "   -------------- ------------------------- 9.0/24.6 MB 2.5 MB/s eta 0:00:07\n",
      "   -------------- ------------------------- 9.1/24.6 MB 2.5 MB/s eta 0:00:07\n",
      "   -------------- ------------------------- 9.2/24.6 MB 2.5 MB/s eta 0:00:07\n",
      "   --------------- ------------------------ 9.4/24.6 MB 2.5 MB/s eta 0:00:06\n",
      "   --------------- ------------------------ 9.5/24.6 MB 2.5 MB/s eta 0:00:06\n",
      "   --------------- ------------------------ 9.6/24.6 MB 2.5 MB/s eta 0:00:06\n",
      "   --------------- ------------------------ 9.7/24.6 MB 2.5 MB/s eta 0:00:06\n",
      "   --------------- ------------------------ 9.8/24.6 MB 2.5 MB/s eta 0:00:06\n",
      "   --------------- ------------------------ 9.8/24.6 MB 2.5 MB/s eta 0:00:06\n",
      "   --------------- ------------------------ 9.8/24.6 MB 2.5 MB/s eta 0:00:06\n",
      "   ---------------- ----------------------- 9.9/24.6 MB 2.5 MB/s eta 0:00:06\n",
      "   ---------------- ----------------------- 10.1/24.6 MB 2.5 MB/s eta 0:00:06\n",
      "   ---------------- ----------------------- 10.3/24.6 MB 2.5 MB/s eta 0:00:06\n",
      "   ---------------- ----------------------- 10.4/24.6 MB 2.5 MB/s eta 0:00:06\n",
      "   ----------------- ---------------------- 10.5/24.6 MB 2.5 MB/s eta 0:00:06\n",
      "   ----------------- ---------------------- 10.6/24.6 MB 2.5 MB/s eta 0:00:06\n",
      "   ----------------- ---------------------- 10.7/24.6 MB 2.5 MB/s eta 0:00:06\n",
      "   ----------------- ---------------------- 10.7/24.6 MB 2.5 MB/s eta 0:00:06\n",
      "   ----------------- ---------------------- 10.8/24.6 MB 2.5 MB/s eta 0:00:06\n",
      "   ----------------- ---------------------- 10.8/24.6 MB 2.4 MB/s eta 0:00:06\n",
      "   ------------------ --------------------- 11.1/24.6 MB 2.4 MB/s eta 0:00:06\n",
      "   ------------------ --------------------- 11.3/24.6 MB 2.4 MB/s eta 0:00:06\n",
      "   ------------------ --------------------- 11.4/24.6 MB 2.4 MB/s eta 0:00:06\n",
      "   ------------------ --------------------- 11.5/24.6 MB 2.4 MB/s eta 0:00:06\n",
      "   ------------------ --------------------- 11.6/24.6 MB 2.4 MB/s eta 0:00:06\n",
      "   ------------------- -------------------- 11.7/24.6 MB 2.4 MB/s eta 0:00:06\n",
      "   ------------------- -------------------- 11.7/24.6 MB 2.5 MB/s eta 0:00:06\n",
      "   ------------------- -------------------- 11.8/24.6 MB 2.5 MB/s eta 0:00:06\n",
      "   ------------------- -------------------- 11.8/24.6 MB 2.4 MB/s eta 0:00:06\n",
      "   ------------------- -------------------- 11.8/24.6 MB 2.4 MB/s eta 0:00:06\n",
      "   ------------------- -------------------- 11.9/24.6 MB 2.4 MB/s eta 0:00:06\n",
      "   ------------------- -------------------- 11.9/24.6 MB 2.4 MB/s eta 0:00:06\n",
      "   ------------------- -------------------- 12.1/24.6 MB 2.4 MB/s eta 0:00:06\n",
      "   -------------------- ------------------- 12.3/24.6 MB 3.0 MB/s eta 0:00:05\n",
      "   -------------------- ------------------- 12.4/24.6 MB 3.0 MB/s eta 0:00:05\n",
      "   -------------------- ------------------- 12.5/24.6 MB 3.0 MB/s eta 0:00:05\n",
      "   -------------------- ------------------- 12.6/24.6 MB 2.9 MB/s eta 0:00:05\n",
      "   -------------------- ------------------- 12.8/24.6 MB 2.9 MB/s eta 0:00:05\n",
      "   -------------------- ------------------- 12.8/24.6 MB 2.9 MB/s eta 0:00:05\n",
      "   -------------------- ------------------- 12.8/24.6 MB 2.9 MB/s eta 0:00:05\n",
      "   -------------------- ------------------- 12.9/24.6 MB 2.8 MB/s eta 0:00:05\n",
      "   --------------------- ------------------ 13.2/24.6 MB 2.8 MB/s eta 0:00:05\n",
      "   --------------------- ------------------ 13.3/24.6 MB 2.8 MB/s eta 0:00:05\n",
      "   --------------------- ------------------ 13.4/24.6 MB 2.7 MB/s eta 0:00:05\n",
      "   ---------------------- ----------------- 13.6/24.6 MB 2.7 MB/s eta 0:00:05\n",
      "   ---------------------- ----------------- 13.7/24.6 MB 2.7 MB/s eta 0:00:05\n",
      "   ---------------------- ----------------- 13.9/24.6 MB 2.7 MB/s eta 0:00:05\n",
      "   ---------------------- ----------------- 14.0/24.6 MB 2.6 MB/s eta 0:00:05\n",
      "   ---------------------- ----------------- 14.0/24.6 MB 2.6 MB/s eta 0:00:05\n",
      "   ---------------------- ----------------- 14.0/24.6 MB 2.6 MB/s eta 0:00:05\n",
      "   ----------------------- ---------------- 14.2/24.6 MB 2.5 MB/s eta 0:00:05\n",
      "   ----------------------- ---------------- 14.4/24.6 MB 2.5 MB/s eta 0:00:05\n",
      "   ----------------------- ---------------- 14.5/24.6 MB 2.5 MB/s eta 0:00:05\n",
      "   ----------------------- ---------------- 14.6/24.6 MB 2.5 MB/s eta 0:00:05\n",
      "   ----------------------- ---------------- 14.7/24.6 MB 2.4 MB/s eta 0:00:05\n",
      "   ------------------------ --------------- 14.9/24.6 MB 2.4 MB/s eta 0:00:05\n",
      "   ------------------------ --------------- 15.0/24.6 MB 2.4 MB/s eta 0:00:05\n",
      "   ------------------------ --------------- 15.0/24.6 MB 2.4 MB/s eta 0:00:05\n",
      "   ------------------------ --------------- 15.0/24.6 MB 2.4 MB/s eta 0:00:05\n",
      "   ------------------------ --------------- 15.0/24.6 MB 2.4 MB/s eta 0:00:05\n",
      "   ------------------------ --------------- 15.3/24.6 MB 2.4 MB/s eta 0:00:04\n",
      "   ------------------------- -------------- 15.5/24.6 MB 2.4 MB/s eta 0:00:04\n",
      "   ------------------------- -------------- 15.6/24.6 MB 2.4 MB/s eta 0:00:04\n",
      "   ------------------------- -------------- 15.7/24.6 MB 2.4 MB/s eta 0:00:04\n",
      "   ------------------------- -------------- 15.7/24.6 MB 2.4 MB/s eta 0:00:04\n",
      "   ------------------------- -------------- 15.9/24.6 MB 2.3 MB/s eta 0:00:04\n",
      "   -------------------------- ------------- 16.0/24.6 MB 2.3 MB/s eta 0:00:04\n",
      "   -------------------------- ------------- 16.0/24.6 MB 2.3 MB/s eta 0:00:04\n",
      "   -------------------------- ------------- 16.0/24.6 MB 2.3 MB/s eta 0:00:04\n",
      "   -------------------------- ------------- 16.0/24.6 MB 2.3 MB/s eta 0:00:04\n",
      "   -------------------------- ------------- 16.3/24.6 MB 2.4 MB/s eta 0:00:04\n",
      "   -------------------------- ------------- 16.6/24.6 MB 2.5 MB/s eta 0:00:04\n",
      "   --------------------------- ------------ 16.8/24.6 MB 2.5 MB/s eta 0:00:04\n",
      "   --------------------------- ------------ 16.9/24.6 MB 2.5 MB/s eta 0:00:04\n",
      "   --------------------------- ------------ 17.1/24.6 MB 2.6 MB/s eta 0:00:03\n",
      "   --------------------------- ------------ 17.2/24.6 MB 2.6 MB/s eta 0:00:03\n",
      "   ---------------------------- ----------- 17.3/24.6 MB 2.6 MB/s eta 0:00:03\n",
      "   ---------------------------- ----------- 17.4/24.6 MB 2.6 MB/s eta 0:00:03\n",
      "   ---------------------------- ----------- 17.4/24.6 MB 2.6 MB/s eta 0:00:03\n",
      "   ---------------------------- ----------- 17.4/24.6 MB 2.6 MB/s eta 0:00:03\n",
      "   ---------------------------- ----------- 17.5/24.6 MB 2.5 MB/s eta 0:00:03\n",
      "   ---------------------------- ----------- 17.7/24.6 MB 2.5 MB/s eta 0:00:03\n",
      "   ---------------------------- ----------- 17.8/24.6 MB 2.5 MB/s eta 0:00:03\n",
      "   ----------------------------- ---------- 17.9/24.6 MB 2.6 MB/s eta 0:00:03\n",
      "   ----------------------------- ---------- 18.0/24.6 MB 2.6 MB/s eta 0:00:03\n",
      "   ----------------------------- ---------- 18.2/24.6 MB 2.6 MB/s eta 0:00:03\n",
      "   ----------------------------- ---------- 18.3/24.6 MB 2.6 MB/s eta 0:00:03\n",
      "   ----------------------------- ---------- 18.4/24.6 MB 2.6 MB/s eta 0:00:03\n",
      "   ----------------------------- ---------- 18.4/24.6 MB 2.6 MB/s eta 0:00:03\n",
      "   ----------------------------- ---------- 18.4/24.6 MB 2.6 MB/s eta 0:00:03\n",
      "   ------------------------------ --------- 18.5/24.6 MB 2.5 MB/s eta 0:00:03\n",
      "   ------------------------------ --------- 18.8/24.6 MB 2.6 MB/s eta 0:00:03\n",
      "   ------------------------------ --------- 18.9/24.6 MB 2.6 MB/s eta 0:00:03\n",
      "   ------------------------------ --------- 19.0/24.6 MB 2.6 MB/s eta 0:00:03\n",
      "   ------------------------------- -------- 19.1/24.6 MB 2.6 MB/s eta 0:00:03\n",
      "   ------------------------------- -------- 19.2/24.6 MB 2.6 MB/s eta 0:00:03\n",
      "   ------------------------------- -------- 19.2/24.6 MB 2.6 MB/s eta 0:00:03\n",
      "   ------------------------------- -------- 19.3/24.6 MB 2.5 MB/s eta 0:00:03\n",
      "   ------------------------------- -------- 19.3/24.6 MB 2.5 MB/s eta 0:00:03\n",
      "   ------------------------------- -------- 19.3/24.6 MB 2.5 MB/s eta 0:00:03\n",
      "   ------------------------------- -------- 19.4/24.6 MB 2.5 MB/s eta 0:00:03\n",
      "   ------------------------------- -------- 19.5/24.6 MB 2.5 MB/s eta 0:00:03\n",
      "   ------------------------------- -------- 19.5/24.6 MB 2.5 MB/s eta 0:00:03\n",
      "   ------------------------------- -------- 19.5/24.6 MB 2.4 MB/s eta 0:00:03\n",
      "   ------------------------------- -------- 19.6/24.6 MB 2.4 MB/s eta 0:00:03\n",
      "   ------------------------------- -------- 19.6/24.6 MB 2.4 MB/s eta 0:00:03\n",
      "   ------------------------------- -------- 19.7/24.6 MB 2.4 MB/s eta 0:00:03\n",
      "   -------------------------------- ------- 19.8/24.6 MB 2.4 MB/s eta 0:00:03\n",
      "   -------------------------------- ------- 19.8/24.6 MB 2.4 MB/s eta 0:00:03\n",
      "   -------------------------------- ------- 19.8/24.6 MB 2.4 MB/s eta 0:00:03\n",
      "   -------------------------------- ------- 19.8/24.6 MB 2.4 MB/s eta 0:00:03\n",
      "   -------------------------------- ------- 19.8/24.6 MB 2.4 MB/s eta 0:00:03\n",
      "   -------------------------------- ------- 19.8/24.6 MB 2.4 MB/s eta 0:00:03\n",
      "   -------------------------------- ------- 19.8/24.6 MB 2.4 MB/s eta 0:00:03\n",
      "   -------------------------------- ------- 19.8/24.6 MB 2.4 MB/s eta 0:00:03\n",
      "   -------------------------------- ------- 19.8/24.6 MB 2.4 MB/s eta 0:00:03\n",
      "   -------------------------------- ------- 19.8/24.6 MB 2.4 MB/s eta 0:00:03\n",
      "   -------------------------------- ------- 19.8/24.6 MB 2.4 MB/s eta 0:00:03\n",
      "   -------------------------------- ------- 19.8/24.6 MB 2.4 MB/s eta 0:00:03\n",
      "   -------------------------------- ------- 19.8/24.6 MB 2.4 MB/s eta 0:00:03\n",
      "   -------------------------------- ------- 19.8/24.6 MB 2.4 MB/s eta 0:00:03\n",
      "   -------------------------------- ------- 19.8/24.6 MB 2.4 MB/s eta 0:00:03\n",
      "   -------------------------------- ------- 19.8/24.6 MB 2.4 MB/s eta 0:00:03\n",
      "   -------------------------------- ------- 19.8/24.6 MB 2.4 MB/s eta 0:00:03\n",
      "   -------------------------------- ------- 19.8/24.6 MB 2.4 MB/s eta 0:00:03\n",
      "   -------------------------------- ------- 19.8/24.6 MB 2.4 MB/s eta 0:00:03\n",
      "   -------------------------------- ------- 19.8/24.6 MB 2.4 MB/s eta 0:00:03\n",
      "   -------------------------------- ------- 19.8/24.6 MB 2.4 MB/s eta 0:00:03\n",
      "   -------------------------------- ------- 19.8/24.6 MB 2.4 MB/s eta 0:00:03\n",
      "   -------------------------------- ------- 19.8/24.6 MB 2.4 MB/s eta 0:00:03\n",
      "   -------------------------------- ------- 19.8/24.6 MB 2.4 MB/s eta 0:00:03\n",
      "   -------------------------------- ------- 19.8/24.6 MB 2.4 MB/s eta 0:00:03\n",
      "   -------------------------------- ------- 19.8/24.6 MB 2.4 MB/s eta 0:00:03\n",
      "   -------------------------------- ------- 19.8/24.6 MB 2.4 MB/s eta 0:00:03\n",
      "   -------------------------------- ------- 19.8/24.6 MB 2.4 MB/s eta 0:00:03\n",
      "   -------------------------------- ------- 19.8/24.6 MB 2.4 MB/s eta 0:00:03\n",
      "   -------------------------------- ------- 19.8/24.6 MB 2.4 MB/s eta 0:00:03\n",
      "   -------------------------------- ------- 19.8/24.6 MB 2.4 MB/s eta 0:00:03\n",
      "   -------------------------------- ------- 19.8/24.6 MB 2.4 MB/s eta 0:00:03\n",
      "   -------------------------------- ------- 19.8/24.6 MB 2.4 MB/s eta 0:00:03\n",
      "   ------------------------------------ --- 22.4/24.6 MB 2.2 MB/s eta 0:00:01\n",
      "   ------------------------------------ --- 22.6/24.6 MB 2.2 MB/s eta 0:00:01\n",
      "   ------------------------------------- -- 22.8/24.6 MB 2.2 MB/s eta 0:00:01\n",
      "   ------------------------------------- -- 22.8/24.6 MB 2.2 MB/s eta 0:00:01\n",
      "   ------------------------------------- -- 22.9/24.6 MB 2.2 MB/s eta 0:00:01\n",
      "   ------------------------------------- -- 22.9/24.6 MB 2.2 MB/s eta 0:00:01\n",
      "   ------------------------------------- -- 23.0/24.6 MB 2.2 MB/s eta 0:00:01\n",
      "   ------------------------------------- -- 23.0/24.6 MB 2.2 MB/s eta 0:00:01\n",
      "   ------------------------------------- -- 23.0/24.6 MB 2.2 MB/s eta 0:00:01\n",
      "   ------------------------------------- -- 23.3/24.6 MB 2.2 MB/s eta 0:00:01\n",
      "   -------------------------------------- - 23.5/24.6 MB 2.2 MB/s eta 0:00:01\n",
      "   -------------------------------------- - 23.6/24.6 MB 2.2 MB/s eta 0:00:01\n",
      "   -------------------------------------- - 23.8/24.6 MB 2.2 MB/s eta 0:00:01\n",
      "   -------------------------------------- - 23.9/24.6 MB 2.2 MB/s eta 0:00:01\n",
      "   ---------------------------------------  24.0/24.6 MB 2.2 MB/s eta 0:00:01\n",
      "   ---------------------------------------  24.1/24.6 MB 2.2 MB/s eta 0:00:01\n",
      "   ---------------------------------------  24.1/24.6 MB 2.2 MB/s eta 0:00:01\n",
      "   ---------------------------------------  24.2/24.6 MB 2.2 MB/s eta 0:00:01\n",
      "   ---------------------------------------  24.4/24.6 MB 2.2 MB/s eta 0:00:01\n",
      "   ---------------------------------------  24.5/24.6 MB 2.2 MB/s eta 0:00:01\n",
      "   ---------------------------------------  24.6/24.6 MB 2.2 MB/s eta 0:00:01\n",
      "   ---------------------------------------  24.6/24.6 MB 2.2 MB/s eta 0:00:01\n",
      "   ---------------------------------------- 24.6/24.6 MB 2.2 MB/s eta 0:00:00\n",
      "Downloading multiprocess-0.70.15-py311-none-any.whl (135 kB)\n",
      "   ---------------------------------------- 0.0/135.4 kB ? eta -:--:--\n",
      "   ---------------------------------------  133.1/135.4 kB 4.0 MB/s eta 0:00:01\n",
      "   ---------------------------------------- 135.4/135.4 kB 2.0 MB/s eta 0:00:00\n",
      "Downloading pyarrow_hotfix-0.6-py3-none-any.whl (7.9 kB)\n",
      "Downloading xxhash-3.4.1-cp311-cp311-win_amd64.whl (29 kB)\n",
      "Downloading frozenlist-1.4.1-cp311-cp311-win_amd64.whl (50 kB)\n",
      "   ---------------------------------------- 0.0/50.5 kB ? eta -:--:--\n",
      "   ---------------------------------------- 50.5/50.5 kB 1.3 MB/s eta 0:00:00\n",
      "Downloading yarl-1.9.4-cp311-cp311-win_amd64.whl (76 kB)\n",
      "   ---------------------------------------- 0.0/76.7 kB ? eta -:--:--\n",
      "   ---------------------------------------- 76.7/76.7 kB 2.1 MB/s eta 0:00:00\n",
      "Installing collected packages: xxhash, pyarrow-hotfix, pyarrow, multidict, fsspec, frozenlist, dill, yarl, multiprocess, aiosignal, aiohttp, datasets\n",
      "  Attempting uninstall: fsspec\n",
      "    Found existing installation: fsspec 2023.12.2\n",
      "    Uninstalling fsspec-2023.12.2:\n",
      "      Successfully uninstalled fsspec-2023.12.2\n",
      "Successfully installed aiohttp-3.9.1 aiosignal-1.3.1 datasets-2.16.1 dill-0.3.7 frozenlist-1.4.1 fsspec-2023.10.0 multidict-6.0.4 multiprocess-0.70.15 pyarrow-14.0.2 pyarrow-hotfix-0.6 xxhash-3.4.1 yarl-1.9.4\n",
      "Note: you may need to restart the kernel to use updated packages.\n"
     ]
    }
   ],
   "source": [
    "pip install datasets"
   ]
  },
  {
   "cell_type": "code",
   "execution_count": 5,
   "id": "d71266d1-1236-4218-b168-f064937435ac",
   "metadata": {},
   "outputs": [
    {
     "data": {
      "application/vnd.jupyter.widget-view+json": {
       "model_id": "69b9a78243ed4eb3a15831a3700b8192",
       "version_major": 2,
       "version_minor": 0
      },
      "text/plain": [
       "Downloading readme:   0%|          | 0.00/15.6k [00:00<?, ?B/s]"
      ]
     },
     "metadata": {},
     "output_type": "display_data"
    },
    {
     "data": {
      "application/vnd.jupyter.widget-view+json": {
       "model_id": "7fa11194e91e41d493e0fef1964e6148",
       "version_major": 2,
       "version_minor": 0
      },
      "text/plain": [
       "Downloading data:   0%|          | 0.00/257M [00:00<?, ?B/s]"
      ]
     },
     "metadata": {},
     "output_type": "display_data"
    },
    {
     "data": {
      "application/vnd.jupyter.widget-view+json": {
       "model_id": "a70e7274b202407388edf2ec98d19c1b",
       "version_major": 2,
       "version_minor": 0
      },
      "text/plain": [
       "Downloading data:   0%|          | 0.00/257M [00:00<?, ?B/s]"
      ]
     },
     "metadata": {},
     "output_type": "display_data"
    },
    {
     "data": {
      "application/vnd.jupyter.widget-view+json": {
       "model_id": "5e2c3d849db14bdeaaf9a278e677295d",
       "version_major": 2,
       "version_minor": 0
      },
      "text/plain": [
       "Downloading data:   0%|          | 0.00/259M [00:00<?, ?B/s]"
      ]
     },
     "metadata": {},
     "output_type": "display_data"
    },
    {
     "data": {
      "application/vnd.jupyter.widget-view+json": {
       "model_id": "d4781bbe588b4ae1a89e2eb7d2398d6d",
       "version_major": 2,
       "version_minor": 0
      },
      "text/plain": [
       "Downloading data:   0%|          | 0.00/34.7M [00:00<?, ?B/s]"
      ]
     },
     "metadata": {},
     "output_type": "display_data"
    },
    {
     "data": {
      "application/vnd.jupyter.widget-view+json": {
       "model_id": "39137d53aefe45318dbd5abba0bbf1b6",
       "version_major": 2,
       "version_minor": 0
      },
      "text/plain": [
       "Downloading data:   0%|          | 0.00/30.0M [00:00<?, ?B/s]"
      ]
     },
     "metadata": {},
     "output_type": "display_data"
    },
    {
     "data": {
      "application/vnd.jupyter.widget-view+json": {
       "model_id": "ecc69dc3f0b14ca494d74d87629a4a20",
       "version_major": 2,
       "version_minor": 0
      },
      "text/plain": [
       "Generating train split:   0%|          | 0/287113 [00:00<?, ? examples/s]"
      ]
     },
     "metadata": {},
     "output_type": "display_data"
    },
    {
     "data": {
      "application/vnd.jupyter.widget-view+json": {
       "model_id": "f6d8f0610c7a4f14b5a80472b23679db",
       "version_major": 2,
       "version_minor": 0
      },
      "text/plain": [
       "Generating validation split:   0%|          | 0/13368 [00:00<?, ? examples/s]"
      ]
     },
     "metadata": {},
     "output_type": "display_data"
    },
    {
     "data": {
      "application/vnd.jupyter.widget-view+json": {
       "model_id": "727d034ccde9472ca01385def9ef8350",
       "version_major": 2,
       "version_minor": 0
      },
      "text/plain": [
       "Generating test split:   0%|          | 0/11490 [00:00<?, ? examples/s]"
      ]
     },
     "metadata": {},
     "output_type": "display_data"
    }
   ],
   "source": [
    "from datasets import load_dataset\n",
    "\n",
    "dataset = load_dataset(\"cnn_dailymail\", \"3.0.0\")  # Load CNN/DailyMail dataset\n"
   ]
  },
  {
   "cell_type": "code",
   "execution_count": 6,
   "id": "38864567-5ad2-491d-a69a-d33b5d623a4c",
   "metadata": {
    "scrolled": true
   },
   "outputs": [
    {
     "name": "stderr",
     "output_type": "stream",
     "text": [
      "Special tokens have been added in the vocabulary, make sure the associated word embeddings are fine-tuned or trained.\n"
     ]
    }
   ],
   "source": [
    "from transformers import T5ForConditionalGeneration, T5Tokenizer\n",
    "from transformers import Trainer, TrainingArguments\n",
    "from datasets import load_dataset\n",
    "\n",
    "# Load your dataset (e.g., CNN/DailyMail)\n",
    "dataset = load_dataset(\"cnn_dailymail\", \"3.0.0\")\n",
    "train_texts = dataset['train']['article'][:1000]  # Adjust the dataset size as needed\n",
    "\n",
    "# Load pre-trained model and tokenizer\n",
    "model_name = 't5-base'\n",
    "tokenizer = T5Tokenizer.from_pretrained(model_name)\n",
    "model = T5ForConditionalGeneration.from_pretrained(model_name)\n",
    "\n",
    "# Tokenize the dataset\n",
    "tokenized_dataset = tokenizer(train_texts, truncation=True, padding=True)\n",
    "\n",
    "# Define a custom collate function\n",
    "def collate_fn(batch):\n",
    "    return tokenizer(batch['input_ids'], truncation=True, padding=True)\n",
    "\n",
    "# Define training arguments\n",
    "training_args = TrainingArguments(\n",
    "    output_dir='./custom_summarizer',\n",
    "    num_train_epochs=3,\n",
    "    per_device_train_batch_size=4,\n",
    "    save_steps=500,\n",
    "    save_total_limit=2,\n",
    ")\n",
    "\n",
    "# Fine-tune the model\n",
    "trainer = Trainer(\n",
    "    model=model,\n",
    "    args=training_args,\n",
    "    train_dataset=tokenized_dataset,\n",
    "    data_collator=collate_fn,\n",
    ")\n",
    "\n",
    "#trainer.train()\n"
   ]
  },
  {
   "cell_type": "code",
   "execution_count": 10,
   "id": "e9fa6047-a890-4396-aeda-d8059b9f06f3",
   "metadata": {},
   "outputs": [
    {
     "name": "stderr",
     "output_type": "stream",
     "text": [
      "C:\\Users\\athit\\AppData\\Local\\Programs\\Python\\Python311\\Lib\\site-packages\\transformers\\models\\t5\\tokenization_t5.py:240: FutureWarning: This tokenizer was incorrectly instantiated with a model max length of 512 which will be corrected in Transformers v5.\n",
      "For now, this behavior is kept to avoid breaking backwards compatibility when padding/encoding with `truncation is True`.\n",
      "- Be aware that you SHOULD NOT rely on t5-base automatically truncating your input to 512 when padding/encoding.\n",
      "- If you want to encode/pad to sequences longer than 512 you can either instantiate this tokenizer with `model_max_length` or pass `max_length` when encoding/padding.\n",
      "- To avoid this warning, please instantiate this tokenizer with `model_max_length` set to your preferred value.\n",
      "  warnings.warn(\n",
      "You are using the default legacy behaviour of the <class 'transformers.models.t5.tokenization_t5.T5Tokenizer'>. This is expected, and simply means that the `legacy` (previous) behavior will be used so nothing changes for you. If you want to use the new behaviour, set `legacy=False`. This should only be set if you understand what it means, and thouroughly read the reason why this was added as explained in https://github.com/huggingface/transformers/pull/24565\n",
      "Special tokens have been added in the vocabulary, make sure the associated word embeddings are fine-tuned or trained.\n"
     ]
    },
    {
     "name": "stdout",
     "output_type": "stream",
     "text": [
      " * Serving Flask app '__main__'\n",
      " * Debug mode: on\n"
     ]
    },
    {
     "name": "stderr",
     "output_type": "stream",
     "text": [
      "WARNING: This is a development server. Do not use it in a production deployment. Use a production WSGI server instead.\n",
      " * Running on http://127.0.0.1:5000\n",
      "Press CTRL+C to quit\n",
      " * Restarting with stat\n"
     ]
    },
    {
     "ename": "SystemExit",
     "evalue": "1",
     "output_type": "error",
     "traceback": [
      "An exception has occurred, use %tb to see the full traceback.\n",
      "\u001b[1;31mSystemExit\u001b[0m\u001b[1;31m:\u001b[0m 1\n"
     ]
    },
    {
     "name": "stderr",
     "output_type": "stream",
     "text": [
      "C:\\Users\\athit\\AppData\\Local\\Programs\\Python\\Python311\\Lib\\site-packages\\IPython\\core\\interactiveshell.py:3534: UserWarning: To exit: use 'exit', 'quit', or Ctrl-D.\n",
      "  warn(\"To exit: use 'exit', 'quit', or Ctrl-D.\", stacklevel=1)\n"
     ]
    }
   ],
   "source": [
    "from flask import Flask, render_template, request\n",
    "from transformers import T5ForConditionalGeneration, T5Tokenizer\n",
    "\n",
    "app = Flask(__name__)\n",
    "\n",
    "# Load your trained summarization model and tokenizer\n",
    "model_name = 't5-base'\n",
    "tokenizer = T5Tokenizer.from_pretrained(model_name)\n",
    "model = T5ForConditionalGeneration.from_pretrained(model_name)\n",
    "\n",
    "# Define personalized prompt templates\n",
    "prompt_templates = {\n",
    "    'objective': 'In an objective manner, summarize the article: {}',\n",
    "    'factual': 'Provide a factual summary of the article: {}',\n",
    "    'humorous': 'Summarize the article in a humorous way: {}',\n",
    "}\n",
    "\n",
    "@app.route('/')\n",
    "def index():\n",
    "    return render_template('index.html')\n",
    "\n",
    "@app.route('/summarize', methods=['POST'])\n",
    "def summarize():\n",
    "    article = request.form['article']\n",
    "    summary_length = int(request.form['summary_length'])\n",
    "    style = request.form['style']\n",
    "\n",
    "    # Design personalized prompt based on user choices\n",
    "    prompt = prompt_templates.get(style, 'Summarize the article: {}').format(article)\n",
    "\n",
    "    # Generate personalized summary\n",
    "    inputs = tokenizer(prompt, return_tensors=\"pt\", max_length=1024, truncation=True)\n",
    "    summary_ids = model.generate(**inputs, max_length=summary_length, length_penalty=2.0, num_beams=4, early_stopping=True)\n",
    "    personalized_summary = tokenizer.decode(summary_ids[0], skip_special_tokens=True)\n",
    "\n",
    "    return render_template('index.html', article=article, personalized_summary=personalized_summary)\n",
    "\n",
    "if __name__ == '__main__':\n",
    "    app.run(debug=True)\n"
   ]
  },
  {
   "cell_type": "code",
   "execution_count": 13,
   "id": "4abac922-92af-420d-b651-d551419e434d",
   "metadata": {},
   "outputs": [
    {
     "name": "stdout",
     "output_type": "stream",
     "text": [
      "Collecting accelerateNote: you may need to restart the kernel to use updated packages.\n",
      "\n",
      "  Downloading accelerate-0.26.1-py3-none-any.whl.metadata (18 kB)\n",
      "Requirement already satisfied: numpy>=1.17 in c:\\users\\athit\\appdata\\local\\programs\\python\\python311\\lib\\site-packages (from accelerate) (1.26.2)\n",
      "Requirement already satisfied: packaging>=20.0 in c:\\users\\athit\\appdata\\local\\programs\\python\\python311\\lib\\site-packages (from accelerate) (23.2)\n",
      "Requirement already satisfied: psutil in c:\\users\\athit\\appdata\\local\\programs\\python\\python311\\lib\\site-packages (from accelerate) (5.9.5)\n",
      "Requirement already satisfied: pyyaml in c:\\users\\athit\\appdata\\local\\programs\\python\\python311\\lib\\site-packages (from accelerate) (6.0)\n",
      "Requirement already satisfied: torch>=1.10.0 in c:\\users\\athit\\appdata\\local\\programs\\python\\python311\\lib\\site-packages (from accelerate) (2.1.2)\n",
      "Requirement already satisfied: huggingface-hub in c:\\users\\athit\\appdata\\local\\programs\\python\\python311\\lib\\site-packages (from accelerate) (0.19.4)\n",
      "Requirement already satisfied: safetensors>=0.3.1 in c:\\users\\athit\\appdata\\local\\programs\\python\\python311\\lib\\site-packages (from accelerate) (0.4.1)\n",
      "Requirement already satisfied: filelock in c:\\users\\athit\\appdata\\local\\programs\\python\\python311\\lib\\site-packages (from torch>=1.10.0->accelerate) (3.13.1)\n",
      "Requirement already satisfied: typing-extensions in c:\\users\\athit\\appdata\\local\\programs\\python\\python311\\lib\\site-packages (from torch>=1.10.0->accelerate) (4.8.0)\n",
      "Requirement already satisfied: sympy in c:\\users\\athit\\appdata\\local\\programs\\python\\python311\\lib\\site-packages (from torch>=1.10.0->accelerate) (1.12)\n",
      "Requirement already satisfied: networkx in c:\\users\\athit\\appdata\\local\\programs\\python\\python311\\lib\\site-packages (from torch>=1.10.0->accelerate) (3.2.1)\n",
      "Requirement already satisfied: jinja2 in c:\\users\\athit\\appdata\\local\\programs\\python\\python311\\lib\\site-packages (from torch>=1.10.0->accelerate) (3.1.2)\n",
      "Requirement already satisfied: fsspec in c:\\users\\athit\\appdata\\local\\programs\\python\\python311\\lib\\site-packages (from torch>=1.10.0->accelerate) (2023.10.0)\n",
      "Requirement already satisfied: requests in c:\\users\\athit\\appdata\\local\\programs\\python\\python311\\lib\\site-packages (from huggingface-hub->accelerate) (2.31.0)\n",
      "Requirement already satisfied: tqdm>=4.42.1 in c:\\users\\athit\\appdata\\local\\programs\\python\\python311\\lib\\site-packages (from huggingface-hub->accelerate) (4.66.1)\n",
      "Requirement already satisfied: colorama in c:\\users\\athit\\appdata\\local\\programs\\python\\python311\\lib\\site-packages (from tqdm>=4.42.1->huggingface-hub->accelerate) (0.4.6)\n",
      "Requirement already satisfied: MarkupSafe>=2.0 in c:\\users\\athit\\appdata\\local\\programs\\python\\python311\\lib\\site-packages (from jinja2->torch>=1.10.0->accelerate) (2.1.3)\n",
      "Requirement already satisfied: charset-normalizer<4,>=2 in c:\\users\\athit\\appdata\\local\\programs\\python\\python311\\lib\\site-packages (from requests->huggingface-hub->accelerate) (3.0.1)\n",
      "Requirement already satisfied: idna<4,>=2.5 in c:\\users\\athit\\appdata\\local\\programs\\python\\python311\\lib\\site-packages (from requests->huggingface-hub->accelerate) (3.4)\n",
      "Requirement already satisfied: urllib3<3,>=1.21.1 in c:\\users\\athit\\appdata\\local\\programs\\python\\python311\\lib\\site-packages (from requests->huggingface-hub->accelerate) (1.26.14)\n",
      "Requirement already satisfied: certifi>=2017.4.17 in c:\\users\\athit\\appdata\\local\\programs\\python\\python311\\lib\\site-packages (from requests->huggingface-hub->accelerate) (2022.12.7)\n",
      "Requirement already satisfied: mpmath>=0.19 in c:\\users\\athit\\appdata\\local\\programs\\python\\python311\\lib\\site-packages (from sympy->torch>=1.10.0->accelerate) (1.3.0)\n",
      "Downloading accelerate-0.26.1-py3-none-any.whl (270 kB)\n",
      "   ---------------------------------------- 0.0/270.9 kB ? eta -:--:--\n",
      "   - -------------------------------------- 10.2/270.9 kB ? eta -:--:--\n",
      "   - -------------------------------------- 10.2/270.9 kB ? eta -:--:--\n",
      "   ---- ---------------------------------- 30.7/270.9 kB 325.1 kB/s eta 0:00:01\n",
      "   ----- --------------------------------- 41.0/270.9 kB 217.9 kB/s eta 0:00:02\n",
      "   -------- ------------------------------ 61.4/270.9 kB 297.7 kB/s eta 0:00:01\n",
      "   ---------- ---------------------------- 71.7/270.9 kB 280.5 kB/s eta 0:00:01\n",
      "   ------------- ------------------------- 92.2/270.9 kB 348.6 kB/s eta 0:00:01\n",
      "   --------------- ---------------------- 112.6/270.9 kB 327.2 kB/s eta 0:00:01\n",
      "   --------------- ---------------------- 112.6/270.9 kB 327.2 kB/s eta 0:00:01\n",
      "   -------------------- ----------------- 143.4/270.9 kB 340.5 kB/s eta 0:00:01\n",
      "   --------------------- ---------------- 153.6/270.9 kB 352.2 kB/s eta 0:00:01\n",
      "   ------------------------ ------------- 174.1/270.9 kB 349.3 kB/s eta 0:00:01\n",
      "   ------------------------ ------------- 174.1/270.9 kB 349.3 kB/s eta 0:00:01\n",
      "   ---------------------------- --------- 204.8/270.9 kB 345.6 kB/s eta 0:00:01\n",
      "   -------------------------------------  266.2/270.9 kB 419.7 kB/s eta 0:00:01\n",
      "   -------------------------------------- 270.9/270.9 kB 417.0 kB/s eta 0:00:00\n",
      "Installing collected packages: accelerate\n",
      "Successfully installed accelerate-0.26.1\n"
     ]
    }
   ],
   "source": [
    "pip install accelerate -U\n"
   ]
  },
  {
   "cell_type": "code",
   "execution_count": null,
   "id": "98dfd3a5-b0a2-4a24-9af7-ac1f3c500d6f",
   "metadata": {},
   "outputs": [],
   "source": []
  }
 ],
 "metadata": {
  "kernelspec": {
   "display_name": "Python 3 (ipykernel)",
   "language": "python",
   "name": "python3"
  },
  "language_info": {
   "codemirror_mode": {
    "name": "ipython",
    "version": 3
   },
   "file_extension": ".py",
   "mimetype": "text/x-python",
   "name": "python",
   "nbconvert_exporter": "python",
   "pygments_lexer": "ipython3",
   "version": "3.11.5"
  }
 },
 "nbformat": 4,
 "nbformat_minor": 5
}
